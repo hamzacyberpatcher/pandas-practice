{
 "cells": [
  {
   "cell_type": "code",
   "execution_count": 1,
   "id": "bf2f546f-d1dd-463e-a2fa-4348d95fed81",
   "metadata": {},
   "outputs": [],
   "source": [
    "import pandas as pd"
   ]
  },
  {
   "cell_type": "code",
   "execution_count": 8,
   "id": "110a0df8-60ab-4fc2-9863-59d7673e6053",
   "metadata": {},
   "outputs": [
    {
     "name": "stdout",
     "output_type": "stream",
     "text": [
      "a    1\n",
      "b    2\n",
      "c    3\n",
      "d    4\n",
      "a    5\n",
      "dtype: int64\n"
     ]
    }
   ],
   "source": [
    "# series (its like a column)\n",
    "values = [1,2,3,4,5]\n",
    "\n",
    "s = pd.Series(values, index = ['a','b','c','d','a'])\n",
    "\n",
    "print(s)"
   ]
  },
  {
   "cell_type": "code",
   "execution_count": 9,
   "id": "15ae6ef4-cd88-4edf-beb2-eddf2d258713",
   "metadata": {},
   "outputs": [
    {
     "data": {
      "text/plain": [
       "a    1\n",
       "a    5\n",
       "dtype: int64"
      ]
     },
     "execution_count": 9,
     "metadata": {},
     "output_type": "execute_result"
    }
   ],
   "source": [
    "# gives me all the values pointed by an index\n",
    "\n",
    "s.loc['a']"
   ]
  },
  {
   "cell_type": "code",
   "execution_count": null,
   "id": "dfedc116-f580-415f-ad13-07c11addc0cd",
   "metadata": {},
   "outputs": [],
   "source": [
    "# Data Frame\n",
    "\n",
    "df = pd.DataFrame ({\n",
    "    'name' : ['Neko', 'Kim Dokja', 'Yoo Jung-Hyeok'],\n",
    "    'round': [0, 0, 3]"
   ]
  }
 ],
 "metadata": {
  "kernelspec": {
   "display_name": "Python 3 (ipykernel)",
   "language": "python",
   "name": "python3"
  },
  "language_info": {
   "codemirror_mode": {
    "name": "ipython",
    "version": 3
   },
   "file_extension": ".py",
   "mimetype": "text/x-python",
   "name": "python",
   "nbconvert_exporter": "python",
   "pygments_lexer": "ipython3",
   "version": "3.11.7"
  },
  "widgets": {
   "application/vnd.jupyter.widget-state+json": {
    "state": {},
    "version_major": 2,
    "version_minor": 0
   }
  }
 },
 "nbformat": 4,
 "nbformat_minor": 5
}
